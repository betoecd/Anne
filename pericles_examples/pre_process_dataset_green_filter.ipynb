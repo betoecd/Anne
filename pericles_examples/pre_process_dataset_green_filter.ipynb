{
 "cells": [
  {
   "cell_type": "code",
   "execution_count": 1,
   "metadata": {},
   "outputs": [],
   "source": [
    "import os\n",
    "import cv2\n",
    "import numpy as np"
   ]
  },
  {
   "cell_type": "code",
   "execution_count": 6,
   "metadata": {
    "scrolled": true
   },
   "outputs": [
    {
     "name": "stdout",
     "output_type": "stream",
     "text": [
      "Total Images :  2000\n"
     ]
    }
   ],
   "source": [
    "image_path = '../../sensix_daninhas/ortomosaicos/pre-emergente/179323/dataset/nao/'\n",
    "\n",
    "num_of_train_samples = sum(len(files) for _, _, files in os.walk(image_path))\n",
    "print(\"Total Images : \", num_of_train_samples)"
   ]
  },
  {
   "cell_type": "code",
   "execution_count": 7,
   "metadata": {},
   "outputs": [],
   "source": [
    "dir_save = '../../sensix_daninhas/ortomosaicos/pre-emergente/179323/dataset/processed_nao/'\n",
    "\n",
    "for img in os.listdir(image_path):\n",
    "    \n",
    "        image = cv2.imread(image_path + img)\n",
    "        #print(img)\n",
    "        hsv = cv2.cvtColor(image, cv2.COLOR_BGR2HSV)\n",
    "        mask = cv2.inRange(hsv, (25, 100, 0), (70, 255,255))\n",
    "        ## slice no verde\n",
    "        imask = mask>0\n",
    "        verde = np.zeros_like(image, np.uint8)\n",
    "        verde[imask] = image[imask]\n",
    "        (canal_h, canal_s, canal_v) = cv2.split(verde)\n",
    "        retval, threshold = cv2.threshold(canal_v, 130, 255, cv2.THRESH_BINARY+cv2.THRESH_OTSU)\n",
    "        \n",
    "        if (cv2.countNonZero(canal_v) >= 30):\n",
    "            cv2.imwrite(dir_save + 'sim/' + img, image)\n",
    "        \n",
    "        elif (cv2.countNonZero(canal_v) > 0 and (cv2.countNonZero(canal_v)) < 30):\n",
    "            cv2.imwrite(dir_save + 'incerto/' + img, image)        \n",
    "        \n",
    "        else:\n",
    "            cv2.imwrite(dir_save + 'nao/' + img, image)"
   ]
  },
  {
   "cell_type": "code",
   "execution_count": 4,
   "metadata": {},
   "outputs": [
    {
     "data": {
      "text/plain": [
       "4"
      ]
     },
     "execution_count": 4,
     "metadata": {},
     "output_type": "execute_result"
    }
   ],
   "source": [
    "cv2.countNonZero(canal_v)"
   ]
  }
 ],
 "metadata": {
  "kernelspec": {
   "display_name": "Python 3",
   "language": "python",
   "name": "python3"
  },
  "language_info": {
   "codemirror_mode": {
    "name": "ipython",
    "version": 3
   },
   "file_extension": ".py",
   "mimetype": "text/x-python",
   "name": "python",
   "nbconvert_exporter": "python",
   "pygments_lexer": "ipython3",
   "version": "3.8.5"
  }
 },
 "nbformat": 4,
 "nbformat_minor": 4
}
