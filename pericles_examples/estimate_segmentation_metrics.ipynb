{
 "cells": [
  {
   "cell_type": "code",
   "execution_count": 6,
   "metadata": {},
   "outputs": [],
   "source": [
    "import cv2\n",
    "import imgaug as iaa\n",
    "import numpy as np\n",
    "import imgaug as ia \n",
    "import glob\n",
    "import os\n",
    "import segmentation_metrics as s_m\n",
    "from keras.preprocessing import image\n",
    "from keras import backend as K"
   ]
  },
  {
   "cell_type": "code",
   "execution_count": 2,
   "metadata": {},
   "outputs": [],
   "source": [
    "def dice_coef(img, img2):\n",
    "        if img.shape != img2.shape:\n",
    "            raise ValueError(\"Shape mismatch: img and img2 must have to be of the same shape.\")\n",
    "        \n",
    "        else:\n",
    "            lenIntersection=0\n",
    "            for i in range(img.shape[0]):\n",
    "                for j in range(img.shape[1]):\n",
    "                    if (np.array_equal(img[i][j],img2[i][j])):\n",
    "                        lenIntersection+=1\n",
    "             \n",
    "            lenimg=img.shape[0]*img.shape[1]\n",
    "            lenimg2=img2.shape[0]*img2.shape[1]  \n",
    "            value = (2. * lenIntersection  / (lenimg + lenimg2))\n",
    "        return value\n",
    "\n",
    "def iou_coef(inputs, target, smooth=255):\n",
    "    intersection = (target * inputs).sum()\n",
    "    union = target.sum() + inputs.sum() - intersection\n",
    "    iou = np.sum(intersection) / np.sum(union)\n",
    "    return iou\n",
    "\n",
    "def iou(prediction, target):\n",
    "    intersection = np.logical_and(target, prediction)\n",
    "    union = np.logical_or(target, prediction)\n",
    "    iou_score = np.sum(intersection) / np.sum(union)\n",
    "    return iou_score\n",
    "\n",
    "def dice(pred, true, k = 255):\n",
    "    intersection = np.sum(pred[true==k]) * 2.0\n",
    "    dice = intersection / (np.sum(pred) + np.sum(true))\n",
    "    return dice"
   ]
  },
  {
   "cell_type": "code",
   "execution_count": 3,
   "metadata": {},
   "outputs": [],
   "source": [
    "def UiP(pred, true):\n",
    "    #pred = cv2.imread(pred, cv2.IMREAD_COLOR)\n",
    "    pred = cv2.cvtColor(pred, cv2.COLOR_BGR2GRAY)\n",
    "    (thresh, pred) = cv2.threshold(pred, 128, 255, cv2.THRESH_BINARY | cv2.THRESH_OTSU)\n",
    "\n",
    "    #true = cv2.imread(true, cv2.IMREAD_COLOR)\n",
    "    true = cv2.cvtColor(true, cv2.COLOR_BGR2GRAY)\n",
    "    (thresh, true) = cv2.threshold(true, 128, 255, cv2.THRESH_BINARY | cv2.THRESH_OTSU)\n",
    "\n",
    "    union = np.logical_or(pred, true)\n",
    "    union = union.astype(np.uint8) * 255\n",
    "    dif = cv2.subtract(union, true)\n",
    "\n",
    "    return (1-cv2.countNonZero(dif) / dif.size)\n",
    "\n",
    "def adjust_pixels(src, tolerancy):\n",
    "\n",
    "    # convert to binary by thresholding\n",
    "    ret, binary_map = cv2.threshold(src,127,255,0)\n",
    "\n",
    "    # do connected components processing\n",
    "    nlabels, labels, stats, centroids = cv2.connectedComponentsWithStats(binary_map, None, None, None, 8, cv2.CV_32S)\n",
    "\n",
    "    #get CC_STAT_AREA component as stats[label, COLUMN] \n",
    "    areas = stats[1:,cv2.CC_STAT_AREA]\n",
    "\n",
    "    result = np.zeros((labels.shape), np.uint8)\n",
    "\n",
    "    for i in range(0, nlabels - 1):\n",
    "        if areas[i] >= tolerancy:   #keep\n",
    "            result[labels == i + 1] = 255\n",
    "            \n",
    "    return result\n",
    "        \n",
    "def metrics_seg(pred, true):\n",
    "    uip_c = UiP(pred, true)\n",
    "    IoU_c = iou(pred, true)\n",
    "    dice_c = dice(pred, true, k = 255)\n",
    "    dice_c2 = dice_coef(pred, true)\n",
    "    \n",
    "    return uip_c, IoU_c, dice_c, dice_c2"
   ]
  },
  {
   "cell_type": "code",
   "execution_count": 7,
   "metadata": {},
   "outputs": [],
   "source": [
    "diretorio_rgb = \"../../daninhas/dataset/test/rgb/\"\n",
    "diretorio_true = \"../../daninhas/ortomosaicos/pre-emergente/190837/marcacoes_manuais/\"\n",
    "diretorio_pred = \"../../daninhas/ortomosaicos/pre-emergente/190837/resultados_rede_manuais/\""
   ]
  },
  {
   "cell_type": "code",
   "execution_count": 8,
   "metadata": {
    "scrolled": false
   },
   "outputs": [
    {
     "name": "stdout",
     "output_type": "stream",
     "text": [
      "daninha_9216_2816.png\n"
     ]
    },
    {
     "data": {
      "image/png": "[encoded data removed]",
      "text/plain": [
       "<Figure size 576x256 with 1 Axes>"
      ]
     },
     "metadata": {
      "needs_background": "light"
     },
     "output_type": "display_data"
    },
    {
     "data": {
      "image/png": "[encoded data removed]",
      "text/plain": [
       "<Figure size 576x256 with 1 Axes>"
      ]
     },
     "metadata": {
      "needs_background": "light"
     },
     "output_type": "display_data"
    },
    {
     "name": "stdout",
     "output_type": "stream",
     "text": [
      "0.453125 0.19694189602446482 0.32907511497189573\n",
      "daninha_13056_11264.png\n"
     ]
    },
    {
     "data": {
      "image/png": "[encoded data removed]",
      "text/plain": [
       "<Figure size 576x256 with 1 Axes>"
      ]
     },
     "metadata": {
      "needs_background": "light"
     },
     "output_type": "display_data"
    },
    {
     "data": {
      "image/png": "[encoded data removed]",
      "text/plain": [
       "<Figure size 576x256 with 1 Axes>"
      ]
     },
     "metadata": {
      "needs_background": "light"
     },
     "output_type": "display_data"
    },
    {
     "name": "stdout",
     "output_type": "stream",
     "text": [
      "0.19140625 0.040639861651534805 0.07810552555047777\n",
      "daninha_9728_13568.png\n"
     ]
    },
    {
     "data": {
      "image/png": "[encoded data removed]",
      "text/plain": [
       "<Figure size 576x256 with 1 Axes>"
      ]
     },
     "metadata": {
      "needs_background": "light"
     },
     "output_type": "display_data"
    },
    {
     "data": {
      "image/png": "[encoded data removed]",
      "text/plain": [
       "<Figure size 576x256 with 1 Axes>"
      ]
     },
     "metadata": {
      "needs_background": "light"
     },
     "output_type": "display_data"
    },
    {
     "name": "stdout",
     "output_type": "stream",
     "text": [
      "0.90625 0.11290322580645161 0.2028985507246377\n",
      "iou :  0.11682832782748374 , dice : 0.20335973041567038 , acc : 0.5169270833333334 \n",
      "\n"
     ]
    }
   ],
   "source": [
    "from sklearn import metrics\n",
    "from keras.preprocessing import image\n",
    "\n",
    "count = 0\n",
    "num_images = len(os.listdir(diretorio_pred))\n",
    "\n",
    "c1 = 0\n",
    "c2 = 0\n",
    "c5 = 0\n",
    "\n",
    "for name in os.listdir(diretorio_pred): \n",
    "    count += 1\n",
    "    if count > 3:\n",
    "        break\n",
    "    print(name)\n",
    "        \n",
    "    img_true =  image.load_img(diretorio_true + name, target_size=(256,256))\n",
    "    img_true = image.img_to_array(img_true)#.astype(int)\n",
    "    img_true = cv2.cvtColor(img_true, cv2.COLOR_BGR2GRAY)\n",
    "    iaa.imshow(img_true)\n",
    "    \n",
    "    img_pred =  image.load_img(diretorio_pred + name, target_size=(256,256))\n",
    "    img_pred = image.img_to_array(img_pred)#.astype(int)\n",
    "    img_pred = cv2.cvtColor(img_pred, cv2.COLOR_BGR2GRAY)\n",
    "    iaa.imshow(img_pred)\n",
    "\n",
    "    #uip_c, IoU_c, dice_c, dice_c2 = metrics_seg(img_pred, img_true)\n",
    "    \n",
    "    vl_jac = metrics.jaccard_score(img_pred, img_true, average='micro') #iou\n",
    "    vl_dic = dice(img_true, img_pred)\n",
    "    vl_acc = metrics.accuracy_score(img_true, img_pred)\n",
    "    \n",
    "    c1 += vl_acc\n",
    "    c2 += vl_jac\n",
    "    c5 += vl_dic\n",
    "        \n",
    "    print(vl_acc, vl_jac, vl_dic)\n",
    "\n",
    "print('iou : ', c2 / (count -1), ', dice :', c5 / (count -1), ', acc :', c1 / (count -1), '\\n')"
   ]
  },
  {
   "cell_type": "code",
   "execution_count": 511,
   "metadata": {},
   "outputs": [
    {
     "name": "stdout",
     "output_type": "stream",
     "text": [
      "dice : 0.7684680218145761\n",
      "iou : 0.6239935587761675\n",
      "precision : 0.9204275534441805\n"
     ]
    }
   ],
   "source": [
    "from sklearn import metrics\n",
    "from keras.preprocessing import image\n",
    "import imgaug as iaa\n",
    "\n",
    "name_img = 'daninha_2304_5376'\n",
    "img_t = image.load_img('../../daninhas/ortomosaicos/pre-emergente/190837/marcacoes_manuais/' + name_img + '.png', target_size=(256,256))\n",
    "img_t = image.img_to_array(img_t)\n",
    "img_t = cv2.cvtColor(img_t, cv2.COLOR_BGR2GRAY)\n",
    "\n",
    "\n",
    "img_p = image.load_img('../../daninhas/ortomosaicos/pre-emergente/190837/resultados_rede_manuais/' + name_img + '.png', target_size=(256,256))\n",
    "img_p = image.img_to_array(img_p)\n",
    "img_p = cv2.cvtColor(img_p, cv2.COLOR_BGR2GRAY)\n",
    "\n",
    "print('dice :', dice(img_p, img_t))\n",
    "print('iou :', iou(img_p, img_t))\n",
    "print('precision :', metrics.recall_score(img_p, img_t, average='micro'))"
   ]
  },
  {
   "cell_type": "code",
   "execution_count": 507,
   "metadata": {},
   "outputs": [
    {
     "name": "stdout",
     "output_type": "stream",
     "text": [
      "iou :  0.20680179055970727 , dice : 0.309850704099268 , prc :  0.6637543768579701 , acc : 0.6720900588088088 \n",
      "\n"
     ]
    }
   ],
   "source": [
    "from sklearn import metrics\n",
    "from keras.preprocessing import image\n",
    "\n",
    "diretorio_rgb = \"../../daninhas/dataset/test/rgb/\"\n",
    "diretorio_true = \"../../daninhas/ortomosaicos/pre-emergente/190837/marcacoes_manuais/\"\n",
    "diretorio_pred = \"../../daninhas/ortomosaicos/pre-emergente/190837/resultados_rede_manuais/\"\n",
    "\n",
    "count = 0\n",
    "num_images = len(os.listdir(diretorio_pred))\n",
    "\n",
    "c1 = 0\n",
    "c2 = 0\n",
    "c3 = 0\n",
    "c5 = 0\n",
    "\n",
    "for name in os.listdir(diretorio_pred): \n",
    "    count += 1\n",
    "    if count > 1000:\n",
    "        break\n",
    "    #print(name)\n",
    "        \n",
    "    img_true =  cv2.imread(diretorio_true + name)\n",
    "    img_true = cv2.cvtColor(img_true, cv2.COLOR_BGR2GRAY)\n",
    "    #iaa.imshow(img_true)\n",
    "    \n",
    "    img_pred =  cv2.imread(diretorio_pred + name)\n",
    "    img_pred = cv2.cvtColor(img_pred, cv2.COLOR_BGR2GRAY)\n",
    "    #iaa.imshow(img_pred)\n",
    "    img_pred = adjust_pixels(img_pred, 100)\n",
    "    #iaa.imshow(img_pred)\n",
    "\n",
    "    #uip_c, IoU_c, dice_c, dice_c2 = metrics_seg(img_pred, img_true)\n",
    "    \n",
    "    vl_jac = metrics.jaccard_score(img_pred, img_true, average='micro') #iou\n",
    "    vl_dic = dice(img_pred, img_true)\n",
    "    vl_acc = metrics.accuracy_score(img_pred, img_true)\n",
    "    vl_prc = metrics.precision_score(img_pred, img_true, average='micro')\n",
    "    \n",
    "    c1 += vl_acc\n",
    "    c2 += vl_jac\n",
    "    c3 += vl_prc\n",
    "    c5 += vl_dic\n",
    "    \n",
    "    #print(vl_acc, vl_prc, vl_jac, vl_dic)\n",
    "\n",
    "print('iou : ', c2 / (count -1), ', dice :', c5 / (count -1),', prc : ', c3 / (count -1), ', acc :', c1 / (count -1), '\\n')"
   ]
  }
 ],
 "metadata": {
  "kernelspec": {
   "display_name": "Python 3",
   "language": "python",
   "name": "python3"
  },
  "language_info": {
   "codemirror_mode": {
    "name": "ipython",
    "version": 3
   },
   "file_extension": ".py",
   "mimetype": "text/x-python",
   "name": "python",
   "nbconvert_exporter": "python",
   "pygments_lexer": "ipython3",
   "version": "3.8.10"
  }
 },
 "nbformat": 4,
 "nbformat_minor": 4
}
