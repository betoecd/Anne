{
 "cells": [
  {
   "cell_type": "code",
   "execution_count": 16,
   "metadata": {},
   "outputs": [],
   "source": [
    "import cv2 as cv\n",
    "import numpy as np\n",
    "import random\n",
    "import pathlib\n",
    "import shutil\n",
    "import matplotlib.pyplot as plt\n",
    "from osgeo import gdal,ogr,osr\n",
    "from tqdm import tqdm"
   ]
  },
  {
   "cell_type": "code",
   "execution_count": 17,
   "metadata": {},
   "outputs": [
    {
     "name": "stdout",
     "output_type": "stream",
     "text": [
      "env: SM_FRAMEWORK=tf.keras\n"
     ]
    }
   ],
   "source": [
    "%env SM_FRAMEWORK=tf.keras\n",
    "import segmentation_models as sm\n",
    "import imgaug as ia\n",
    "from keras_segmentation.predict import predict\n",
    "import cv2\n",
    "from matplotlib import pyplot as plt\n",
    "from matplotlib import cm\n",
    "from skimage.transform import radon, rescale, rotate\n",
    "from skimage.morphology import (square, rectangle, diamond, disk, cube,\n",
    "                                octahedron, ball, octagon, star, binary_closing, closing, opening, skeletonize, erosion, dilation)\n",
    "from skimage.transform import probabilistic_hough_line\n",
    "from skimage.feature import canny\n",
    "from skimage.measure import label, regionprops, regionprops_table\n",
    "from skimage.io import imread, imsave\n",
    "import math\n",
    "import pandas as pd\n",
    "import numpy as np\n",
    "import glob\n",
    "import os\n",
    "from sklearn.metrics import jaccard_score\n",
    "from skimage.morphology import (square, rectangle, diamond, disk, cube,\n",
    "                                octahedron, ball, octagon, star, binary_closing, closing, opening, skeletonize, erosion, dilation)\n",
    "from skimage.transform import rescale, resize, downscale_local_mean\n",
    "import time"
   ]
  },
  {
   "cell_type": "code",
   "execution_count": 18,
   "metadata": {},
   "outputs": [],
   "source": [
    "id_mosaico = '179323' \n",
    "file_shp_1 = '../../daninhas/ortomosaicos/pre-emergente/' + id_mosaico + '/daninha_1.shp'\n",
    "file_shp_2 = '../../daninhas/ortomosaicos/pre-emergente/' + id_mosaico + '/daninha_2.shp'\n",
    "name_mosaico = '../../daninhas/ortomosaicos/pre-emergente/'+ id_mosaico + '/ortomosaico.tif'\n",
    "#output_dataset = '../../daninhas/ortomosaicos/pre-emergente/' + id_mosaico #Pasta de saida\n",
    "output_shp = '../../daninhas/ortomosaicos/pre-emergente/' + id_mosaico  + \"/output_\" + id_mosaico + '.shp'\n",
    "output_dataset = '../../daninhas/dataset'\n",
    "tif_generated_1 = '../../daninhas/ortomosaicos/pre-emergente/' + id_mosaico + '/daninha_1.tif' #Tip de saida\n",
    "tif_generated_2 = '../../daninhas/ortomosaicos/pre-emergente/' + id_mosaico + '/daninha_2.tif'\n",
    "\n",
    "MAX_PIXELS_DANINHA = 5000"
   ]
  },
  {
   "cell_type": "code",
   "execution_count": 19,
   "metadata": {},
   "outputs": [],
   "source": [
    "def GetExtent(gt,cols,rows):\n",
    "    ''' Return list of corner coordinates from a geotransform\n",
    "\n",
    "        @type gt:   C{tuple/list}\n",
    "        @param gt: geotransform\n",
    "        @type cols:   C{int}\n",
    "        @param cols: number of columns in the dataset\n",
    "        @type rows:   C{int}\n",
    "        @param rows: number of rows in the dataset\n",
    "        @rtype:    C{[float,...,float]}\n",
    "        @return:   coordinates of each corner\n",
    "    '''\n",
    "    ext=[]\n",
    "    xarr=[0,cols]\n",
    "    yarr=[0,rows]\n",
    "\n",
    "    for px in xarr:\n",
    "        for py in yarr:\n",
    "            x=gt[0]+(px*gt[1])+(py*gt[2])\n",
    "            y=gt[3]+(px*gt[4])+(py*gt[5])\n",
    "            ext.append([x,y])\n",
    "            print(x,y)\n",
    "        yarr.reverse()\n",
    "    return ext"
   ]
  },
  {
   "cell_type": "code",
   "execution_count": 20,
   "metadata": {
    "scrolled": true
   },
   "outputs": [],
   "source": [
    "def ReprojectCoords(coords,src_srs,tgt_srs):\n",
    "    ''' Reproject a list of x,y coordinates.\n",
    "\n",
    "        @type geom:     C{tuple/list}\n",
    "        @param geom:    List of [[x,y],...[x,y]] coordinates\n",
    "        @type src_srs:  C{osr.SpatialReference}\n",
    "        @param src_srs: OSR SpatialReference object\n",
    "        @type tgt_srs:  C{osr.SpatialReference}\n",
    "        @param tgt_srs: OSR SpatialReference object\n",
    "        @rtype:         C{tuple/list}\n",
    "        @return:        List of transformed [[x,y],...[x,y]] coordinates\n",
    "    '''\n",
    "    trans_coords=[]\n",
    "    transform = osr.CoordinateTransformation( src_srs, tgt_srs)\n",
    "    for x,y in coords:\n",
    "        x,y,z = transform.TransformPoint(x,y)\n",
    "        trans_coords.append([x,y])\n",
    "    return trans_coords"
   ]
  },
  {
   "cell_type": "code",
   "execution_count": 21,
   "metadata": {},
   "outputs": [
    {
     "name": "stdout",
     "output_type": "stream",
     "text": [
      "-45.4861271872156 -12.89707810163661\n",
      "-45.4861271872156 -12.907532193067741\n",
      "-45.475512627790565 -12.907532193067741\n",
      "-45.475512627790565 -12.89707810163661\n"
     ]
    }
   ],
   "source": [
    "ds=gdal.Open(name_mosaico)\n",
    "gt=ds.GetGeoTransform()\n",
    "cols = ds.RasterXSize\n",
    "rows = ds.RasterYSize\n",
    "ext=GetExtent(gt,cols,rows)\n",
    "\n",
    "src_srs=osr.SpatialReference()\n",
    "src_srs.ImportFromWkt(ds.GetProjection())\n",
    "tgt_srs = src_srs.CloneGeogCS()\n",
    "\n",
    "geo_ext= ReprojectCoords(ext,src_srs,tgt_srs)\n",
    "\n",
    "xmin = geo_ext[0][0]\n",
    "ymax = geo_ext[0][1]\n",
    "xmax = geo_ext[2][0]\n",
    "ymin = geo_ext[1][1]\n",
    "\n",
    "pixel_size_x = gt[1]\n",
    "pixel_size_y = gt[5]"
   ]
  },
  {
   "cell_type": "code",
   "execution_count": 11,
   "metadata": {},
   "outputs": [
    {
     "name": "stdout",
     "output_type": "stream",
     "text": [
      "0...10...20...30...40...50...60...70...80...90...100 - done.\n"
     ]
    }
   ],
   "source": [
    "!gdal_rasterize -burn 255 -ot Byte -tr $pixel_size_x $pixel_size_y -te $xmin $ymin $xmax $ymax $file_shp_1 $tif_generated_1\n",
    "\n",
    "#!gdal_rasterize -burn 255 -ot Byte -tr $pixel_size_x $pixel_size_y -te $xmin $ymin $xmax $ymax $file_shp_2 $tif_generated_2"
   ]
  },
  {
   "cell_type": "code",
   "execution_count": 49,
   "metadata": {},
   "outputs": [
    {
     "data": {
      "text/plain": [
       "0"
      ]
     },
     "execution_count": 49,
     "metadata": {},
     "output_type": "execute_result"
    }
   ],
   "source": [
    "#daninha_1 = gdal.Open(tif_generated_1)\n",
    "#daninha_band_1 = daninha_1.GetRasterBand(1)\n",
    "\n",
    "#daninha_2 = gdal.Open(tif_generated_2)\n",
    "#daninha_band_2 = daninha_2.GetRasterBand(1)\n",
    "\n",
    "mosaico = gdal.Open(name_mosaico)\n",
    "\n",
    "red = mosaico.GetRasterBand(1)\n",
    "green = mosaico.GetRasterBand(2)\n",
    "blue = mosaico.GetRasterBand(3)\n",
    "alpha = mosaico.GetRasterBand(4)\n",
    "\n",
    "nx = mosaico.RasterXSize\n",
    "ny = mosaico.RasterYSize\n",
    "file_path = pathlib.Path(name_mosaico)\n",
    "out_file = pathlib.Path('/')\n",
    "out_file = file_path.parent/(id_mosaico + \".shp\")\n",
    "path_temp = file_path.parent/'temp_files'\n",
    "\n",
    "if path_temp.exists():\n",
    "    shutil.rmtree(str(path_temp))\n",
    "    os.mkdir(str(path_temp))\n",
    "else:\n",
    "    os.mkdir(str(path_temp))\n",
    "    \n",
    "dst_img = gdal.GetDriverByName('GTiff').Create(str(path_temp/'outfile.tif'), nx, ny, 1, gdal.GDT_Byte)\n",
    "dst_img.SetGeoTransform(mosaico.GetGeoTransform())\n",
    "srs = osr.SpatialReference()\n",
    "srs.ImportFromWkt(mosaico.GetProjection())\n",
    "dst_img.SetProjection(srs.ExportToWkt())"
   ]
  },
  {
   "cell_type": "code",
   "execution_count": 8,
   "metadata": {},
   "outputs": [],
   "source": [
    "def random_func(*, percentage: int) -> int:\n",
    "    '''\n",
    "    percentage: Valores entre 0 e 100. Caso value > percentag é retornado true, caso não\n",
    "    é retornado false\n",
    "    \n",
    "    description: Utilizada para definir se a função de pré processamento será utilizada ou\n",
    "    não. \n",
    "    \n",
    "    return:\n",
    "    bool\n",
    "    '''\n",
    "    _value = random.randint(0, 100)\n",
    "    if _value < percentage:\n",
    "        #print(_value)\n",
    "        return False\n",
    "    else:\n",
    "        #print(_value)\n",
    "        return True"
   ]
  },
  {
   "cell_type": "code",
   "execution_count": 47,
   "metadata": {},
   "outputs": [],
   "source": [
    "model = BACKBONE = 'vgg16'\n",
    "model = sm.Linknet(backbone_name=BACKBONE, encoder_weights='imagenet', encoder_freeze=True, classes=1, activation='sigmoid', weights = 'jocival/vgg16_Linknet_Test16.hdf5')"
   ]
  },
  {
   "cell_type": "code",
   "execution_count": null,
   "metadata": {
    "scrolled": true
   },
   "outputs": [],
   "source": [
    "total_images = 20 # Total de imagens desejadas (treino e validacao)\n",
    "count_yes = 0 # contador para as imagens com sim\n",
    "count_no = 0 # contador para as imagens com sim\n",
    "count_validation = 0\n",
    "iterator_x = 256# incremento no eixo x\n",
    "iterator_y = 256 # incremento no eixo y\n",
    "expected_yes_perc = 1 # porcentagem entre a quantidade de imagens sim e nao desejadas\n",
    "expected_validation_perc = 0.25 # porcentagem entre a quantidade de imagens de validacao\n",
    "black_background = 0.5 # porcentagem de fundo preto aceitavel na imagem\n",
    "\n",
    "\n",
    "for x in range(0,mosaico.RasterXSize,iterator_x):\n",
    "    for y in range(0,mosaico.RasterYSize,iterator_y):\n",
    "        if count_yes + count_no >= total_images:\n",
    "            break\n",
    "            \n",
    "        if ((x+iterator_x)>mosaico.RasterXSize) or ((y+iterator_y)>mosaico.RasterYSize):\n",
    "            continue\n",
    "            \n",
    "        #daninha_parcela = daninha_band_1.ReadAsArray(x,y,iterator_x,iterator_y) #+ daninha_band_2.ReadAsArray(x,y,100,100)\n",
    "        blueparcela = blue.ReadAsArray(x,y,iterator_x,iterator_y)\n",
    "        greenparcela = green.ReadAsArray(x,y,iterator_x,iterator_y)\n",
    "        redparcela = red.ReadAsArray(x,y,iterator_x,iterator_y)\n",
    "        imgparcela = cv.merge((blueparcela,greenparcela,redparcela))\n",
    "        img = imgparcela / 255\n",
    "\n",
    "        pr = model.predict(np.array([img]))[0]\n",
    "        pr = pr[:,:, 0]\n",
    "        pr[pr >= 0.1] = 255\n",
    "        pr[pr < 0.5] = 0\n",
    "        pr = pr.astype('uint8')\n",
    "        #print(pr)\n",
    "        #ia.imshow(pr)\n",
    "        \n",
    "        if (imgparcela.max()>0) and (imgparcela.min()<255):\n",
    "            write_image = pr\n",
    "            #ia.imshow(write_image)\n",
    "        else:\n",
    "            #print('parcela fora da imagem, seguindo para a proxima parcela')\n",
    "            pr[pr>=255]= 0\n",
    "            write_image = pr\n",
    "            \n",
    "        #print(write_image)\n",
    "        dst_img.GetRasterBand(1).WriteArray(write_image,xoff=x,yoff=y)\n",
    "        #cv.imwrite(output_dataset + '/validation/sim/daninha_{x}_{y}.png'.format(x=x,y=y), imgparcela)\n",
    "        #cv.imwrite(output_dataset + '/saida/sim/daninha_{x}_{y}.png'.format(x=x,y=y), daninha_parcela)\n",
    "        #count_validation += \n",
    "        dst_img.FlushCache()\n",
    "                "
   ]
  },
  {
   "cell_type": "code",
   "execution_count": null,
   "metadata": {},
   "outputs": [],
   "source": [
    "src_band = dst_img.GetRasterBand(1)\n",
    "\n",
    "dst_layername = 'daninhas'\n",
    "drv = ogr.GetDriverByName(\"ESRI Shapefile\")\n",
    "dst_ds = drv.CreateDataSource(str(out_file))\n",
    "dst_layer = dst_ds.CreateLayer(dst_layername, srs = srs)\n",
    "\n",
    "gdal.Polygonize( src_band, src_band, dst_layer, -1, [], callback=None )\n",
    "dst_ds.Destroy()\n",
    "#os.remove(str(pathlib.Path(args.input).parent/'temp_filter.png'))"
   ]
  },
  {
   "cell_type": "code",
   "execution_count": null,
   "metadata": {},
   "outputs": [],
   "source": [
    "gdal.Polygonize?"
   ]
  }
 ],
 "metadata": {
  "kernelspec": {
   "display_name": "Python 3",
   "language": "python",
   "name": "python3"
  },
  "language_info": {
   "codemirror_mode": {
    "name": "ipython",
    "version": 3
   },
   "file_extension": ".py",
   "mimetype": "text/x-python",
   "name": "python",
   "nbconvert_exporter": "python",
   "pygments_lexer": "ipython3",
   "version": "3.8.10"
  }
 },
 "nbformat": 4,
 "nbformat_minor": 4
}
