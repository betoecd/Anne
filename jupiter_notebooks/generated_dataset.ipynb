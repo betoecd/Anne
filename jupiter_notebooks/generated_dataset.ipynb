{
 "cells": [
  {
   "cell_type": "code",
   "execution_count": 130,
   "metadata": {},
   "outputs": [],
   "source": [
    "import cv2 as cv\n",
    "import numpy as np\n",
    "import random\n",
    "import matplotlib.pyplot as plt\n",
    "from osgeo import gdal,ogr,osr\n",
    "from tqdm import tqdm"
   ]
  },
  {
   "cell_type": "code",
   "execution_count": 127,
   "metadata": {},
   "outputs": [],
   "source": [
    "id_mosaico = '179323' \n",
    "file_shp_1 = '../../daninhas/ortomosaicos/pre-emergente/' + id_mosaico + '/daninha_1.shp'\n",
    "file_shp_2 = '../../daninhas/ortomosaicos/pre-emergente/' + id_mosaico + '/daninha_2.shp'\n",
    "name_mosaico = '../../daninhas/ortomosaicos/pre-emergente/'+ id_mosaico + '/ortomosaico.tif'\n",
    "#output_dataset = '../../daninhas/ortomosaicos/pre-emergente/' + id_mosaico #Pasta de saida\n",
    "output_dataset = '../../daninhas/dataset'\n",
    "tif_generated_1 = '../../daninhas/ortomosaicos/pre-emergente/' + id_mosaico + '/daninha_1.tif' #Tip de saida\n",
    "tif_generated_2 = '../../daninhas/ortomosaicos/pre-emergente/' + id_mosaico + '/daninha_2.tif'\n",
    "\n",
    "MAX_PIXELS_DANINHA = 5000"
   ]
  },
  {
   "cell_type": "code",
   "execution_count": 3,
   "metadata": {},
   "outputs": [],
   "source": [
    "def GetExtent(gt,cols,rows):\n",
    "    ''' Return list of corner coordinates from a geotransform\n",
    "\n",
    "        @type gt:   C{tuple/list}\n",
    "        @param gt: geotransform\n",
    "        @type cols:   C{int}\n",
    "        @param cols: number of columns in the dataset\n",
    "        @type rows:   C{int}\n",
    "        @param rows: number of rows in the dataset\n",
    "        @rtype:    C{[float,...,float]}\n",
    "        @return:   coordinates of each corner\n",
    "    '''\n",
    "    ext=[]\n",
    "    xarr=[0,cols]\n",
    "    yarr=[0,rows]\n",
    "\n",
    "    for px in xarr:\n",
    "        for py in yarr:\n",
    "            x=gt[0]+(px*gt[1])+(py*gt[2])\n",
    "            y=gt[3]+(px*gt[4])+(py*gt[5])\n",
    "            ext.append([x,y])\n",
    "            print(x,y)\n",
    "        yarr.reverse()\n",
    "    return ext"
   ]
  },
  {
   "cell_type": "code",
   "execution_count": 4,
   "metadata": {
    "scrolled": true
   },
   "outputs": [],
   "source": [
    "def ReprojectCoords(coords,src_srs,tgt_srs):\n",
    "    ''' Reproject a list of x,y coordinates.\n",
    "\n",
    "        @type geom:     C{tuple/list}\n",
    "        @param geom:    List of [[x,y],...[x,y]] coordinates\n",
    "        @type src_srs:  C{osr.SpatialReference}\n",
    "        @param src_srs: OSR SpatialReference object\n",
    "        @type tgt_srs:  C{osr.SpatialReference}\n",
    "        @param tgt_srs: OSR SpatialReference object\n",
    "        @rtype:         C{tuple/list}\n",
    "        @return:        List of transformed [[x,y],...[x,y]] coordinates\n",
    "    '''\n",
    "    trans_coords=[]\n",
    "    transform = osr.CoordinateTransformation( src_srs, tgt_srs)\n",
    "    for x,y in coords:\n",
    "        x,y,z = transform.TransformPoint(x,y)\n",
    "        trans_coords.append([x,y])\n",
    "    return trans_coords"
   ]
  },
  {
   "cell_type": "code",
   "execution_count": 5,
   "metadata": {},
   "outputs": [
    {
     "name": "stdout",
     "output_type": "stream",
     "text": [
      "-45.4861271872156 -12.89707810163661\n",
      "-45.4861271872156 -12.907532193067741\n",
      "-45.475512627790565 -12.907532193067741\n",
      "-45.475512627790565 -12.89707810163661\n"
     ]
    }
   ],
   "source": [
    "ds=gdal.Open(name_mosaico)\n",
    "gt=ds.GetGeoTransform()\n",
    "cols = ds.RasterXSize\n",
    "rows = ds.RasterYSize\n",
    "ext=GetExtent(gt,cols,rows)\n",
    "\n",
    "src_srs=osr.SpatialReference()\n",
    "src_srs.ImportFromWkt(ds.GetProjection())\n",
    "tgt_srs = src_srs.CloneGeogCS()\n",
    "\n",
    "geo_ext= ReprojectCoords(ext,src_srs,tgt_srs)\n",
    "\n",
    "xmin = geo_ext[0][0]\n",
    "ymax = geo_ext[0][1]\n",
    "xmax = geo_ext[2][0]\n",
    "ymin = geo_ext[1][1]\n",
    "\n",
    "pixel_size_x = gt[1]\n",
    "pixel_size_y = gt[5]"
   ]
  },
  {
   "cell_type": "code",
   "execution_count": 11,
   "metadata": {},
   "outputs": [
    {
     "name": "stdout",
     "output_type": "stream",
     "text": [
      "0...10...20...30...40...50...60...70...80...90...100 - done.\n"
     ]
    }
   ],
   "source": [
    "!gdal_rasterize -burn 255 -ot Byte -tr $pixel_size_x $pixel_size_y -te $xmin $ymin $xmax $ymax $file_shp_1 $tif_generated_1\n",
    "\n",
    "#!gdal_rasterize -burn 255 -ot Byte -tr $pixel_size_x $pixel_size_y -te $xmin $ymin $xmax $ymax $file_shp_2 $tif_generated_2"
   ]
  },
  {
   "cell_type": "code",
   "execution_count": 6,
   "metadata": {},
   "outputs": [],
   "source": [
    "daninha_1 = gdal.Open(tif_generated_1)\n",
    "daninha_band_1 = daninha_1.GetRasterBand(1)\n",
    "\n",
    "#daninha_2 = gdal.Open(tif_generated_2)\n",
    "#daninha_band_2 = daninha_2.GetRasterBand(1)\n",
    "\n",
    "mosaico = gdal.Open(name_mosaico)\n",
    "\n",
    "red = mosaico.GetRasterBand(1)\n",
    "green = mosaico.GetRasterBand(2)\n",
    "blue = mosaico.GetRasterBand(3)\n",
    "alpha = mosaico.GetRasterBand(4)\n"
   ]
  },
  {
   "cell_type": "code",
   "execution_count": 100,
   "metadata": {},
   "outputs": [],
   "source": [
    "def random_func(*, percentage: int) -> int:\n",
    "    '''\n",
    "    percentage: Valores entre 0 e 100. Caso value > percentag é retornado true, caso não\n",
    "    é retornado false\n",
    "    \n",
    "    description: Utilizada para definir se a função de pré processamento será utilizada ou\n",
    "    não. \n",
    "    \n",
    "    return:\n",
    "    bool\n",
    "    '''\n",
    "    _value = random.randint(0, 100)\n",
    "    if _value < percentage:\n",
    "        #print(_value)\n",
    "        return False\n",
    "    else:\n",
    "        #print(_value)\n",
    "        return True"
   ]
  },
  {
   "cell_type": "code",
   "execution_count": 126,
   "metadata": {},
   "outputs": [
    {
     "name": "stdout",
     "output_type": "stream",
     "text": [
      "True\n"
     ]
    }
   ],
   "source": [
    "z = random_func(percentage = 10)\n",
    "print(z)"
   ]
  },
  {
   "cell_type": "code",
   "execution_count": 132,
   "metadata": {},
   "outputs": [],
   "source": [
    "total_images = 10000 # Total de imagens desejadas (treino e validacao)\n",
    "count_yes = 0 # contador para as imagens com sim\n",
    "count_no = 0 # contador para as imagens com sim\n",
    "count_validation = 0\n",
    "iterator_x = 256 # incremento no eixo x\n",
    "iterator_y = 256 # incremento no eixo y\n",
    "expected_yes_perc = 1 # porcentagem entre a quantidade de imagens sim e nao desejadas\n",
    "expected_validation_perc = 0.25 # porcentagem entre a quantidade de imagens de validacao\n",
    "black_background = 0.5 # porcentagem de fundo preto aceitavel na imagem\n",
    "\n",
    "\n",
    "for x in range(0,mosaico.RasterXSize,iterator_x):\n",
    "    for y in range(0,mosaico.RasterYSize,iterator_y):\n",
    "        if count_yes + count_no >= total_images:\n",
    "            break\n",
    "            \n",
    "        if ((x+iterator_x)>mosaico.RasterXSize) or ((y+iterator_y)>mosaico.RasterYSize):\n",
    "            continue\n",
    "            \n",
    "        daninha_parcela = daninha_band_1.ReadAsArray(x,y,iterator_x,iterator_y) #+ daninha_band_2.ReadAsArray(x,y,100,100)\n",
    "        blueparcela = blue.ReadAsArray(x,y,iterator_x,iterator_y)\n",
    "        greenparcela = green.ReadAsArray(x,y,iterator_x,iterator_y)\n",
    "        redparcela = red.ReadAsArray(x,y,iterator_x,iterator_y)\n",
    "        imgparcela = cv.merge((blueparcela,greenparcela,redparcela))\n",
    "        \n",
    "        hsv = cv.cvtColor(imgparcela, cv.COLOR_BGR2HSV)\n",
    "        mask = cv.inRange(hsv, (25, 0, 0), (50, 255,255))\n",
    "        imask = mask>0\n",
    "        green_filter = np.zeros_like(imgparcela, np.uint8)\n",
    "        green_filter[imask] = imgparcela[imask]\n",
    "        (channel_h, channel_s, channel_v) = cv.split(green_filter)\n",
    "        retval, threshold = cv.threshold(channel_v, 130, 255, cv.THRESH_BINARY+cv.THRESH_OTSU)\n",
    "        \n",
    "        if (cv.countNonZero(blueparcela) + cv.countNonZero(greenparcela) + cv.countNonZero(redparcela)) < int(iterator_x * iterator_y * black_background * 3):\n",
    "            continue\n",
    "            \n",
    "        if cv.countNonZero(daninha_parcela) > 0 and count_yes < total_images * expected_yes_perc: and cv.countNonZero(channel_v) > 100:\n",
    "            if count_validation < total_images * expected_validation_perc and not random_func(percentage = 10):\n",
    "                cv.imwrite(output_dataset + '/validation/sim/daninha_{x}_{y}.png'.format(x=x,y=y), imgparcela)\n",
    "                cv.imwrite(output_dataset + '/mask_validation/sim/daninha_{x}_{y}.png'.format(x=x,y=y), threshold)\n",
    "                count_validation += 1\n",
    "                \n",
    "            else:\n",
    "                cv.imwrite(output_dataset + '/train/sim/daninha_{x}_{y}.png'.format(x=x,y=y), imgparcela)\n",
    "                cv.imwrite(output_dataset + '/mask_train/sim/aninha_{x}_{y}.png'.format(x=x,y=y), threshold)\n",
    "            \n",
    "            count_yes += 1\n",
    "        \n",
    "        #elif cv.countNonZero(daninha_parcela) == 0 and count_no < total_images * (1 - expected_yes_perc) and cv.countNonZero(channel_v) == 0:\n",
    "        #    cv.imwrite(output_dataset + '/nao/daninha_{x}_{y}.png'.format(x=x,y=y), imgparcela)\n",
    "        #    cv.imwrite(output_dataset + '/mask_nao/daninha_{x}_{y}.png'.format(x=x,y=y), threshold)\n",
    "        #    count_no += 1"
   ]
  },
  {
   "cell_type": "code",
   "execution_count": 142,
   "metadata": {},
   "outputs": [
    {
     "name": "stdout",
     "output_type": "stream",
     "text": [
      "8010.0\n"
     ]
    }
   ],
   "source": [
    "print(y*x / (256*256))"
   ]
  }
 ],
 "metadata": {
  "kernelspec": {
   "display_name": "Python 3",
   "language": "python",
   "name": "python3"
  },
  "language_info": {
   "codemirror_mode": {
    "name": "ipython",
    "version": 3
   },
   "file_extension": ".py",
   "mimetype": "text/x-python",
   "name": "python",
   "nbconvert_exporter": "python",
   "pygments_lexer": "ipython3",
   "version": "3.8.5"
  }
 },
 "nbformat": 4,
 "nbformat_minor": 4
}
