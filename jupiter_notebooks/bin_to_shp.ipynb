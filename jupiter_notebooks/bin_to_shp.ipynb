{
 "cells": [
  {
   "cell_type": "code",
   "execution_count": 14,
   "metadata": {},
   "outputs": [],
   "source": [
    "from osgeo import gdal, ogr, osr\n",
    "import os\n",
    "\n",
    "gdal.UseExceptions()\n",
    "fileName = \"../203655/resutado_gerado2.tif\"\n",
    "src_ds = gdal.Open(fileName)\n",
    "\n",
    "if src_ds is None:\n",
    "    print('Unable to open %s' % src_fileName)\n",
    "    sys.exit(1)\n",
    "    \n",
    "srcband = src_ds.GetRasterBand(1)\n",
    "srs = osr.SpatialReference()\n",
    "srs.ImportFromWkt(src_ds.GetProjection())\n",
    "dst_layername = \"PolyFtr2\"\n",
    "drv = ogr.GetDriverByName(\"ESRI Shapefile\")\n",
    "dst_ds = drv.CreateDataSource(dst_layername + \".shp\")\n",
    "dst_layer = dst_ds.CreateLayer(dst_layername, srs = None)\n",
    "newField = ogr.FieldDefn('Area', ogr.OFTInteger)\n",
    "dst_layer.CreateField(newField)\n",
    "gdal.Polygonize(srcband, srcband, dst_layer, 0, [], callback=None )\n",
    "dst_ds.Destroy()"
   ]
  }
 ],
 "metadata": {
  "kernelspec": {
   "display_name": "Python 3",
   "language": "python",
   "name": "python3"
  },
  "language_info": {
   "codemirror_mode": {
    "name": "ipython",
    "version": 3
   },
   "file_extension": ".py",
   "mimetype": "text/x-python",
   "name": "python",
   "nbconvert_exporter": "python",
   "pygments_lexer": "ipython3",
   "version": "3.8.10"
  }
 },
 "nbformat": 4,
 "nbformat_minor": 4
}
